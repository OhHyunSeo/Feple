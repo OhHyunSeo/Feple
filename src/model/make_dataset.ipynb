{
 "cells": [
  {
   "cell_type": "markdown",
   "id": "10552291-8480-492e-9e0b-efc842ebe65b",
   "metadata": {},
   "source": [
    "## 1. 예측할 레이블 (평가 지표) 정의하기"
   ]
  },
  {
   "cell_type": "markdown",
   "id": "48d2d8fc-ffdf-48ef-ab63-841546caa346",
   "metadata": {},
   "source": [
    "##### 우선 무엇을 예측할지를 정해야 합니다.\n",
    "예시로, “상담 결과”(해결 불가 / 만족 / 미흡 / 추가 상담 필요)를 레이블로 삼아보겠습니다.\n",
    "\n",
    "팁: 이 값은 이미 여러분이 만든 merged_classification_*_final.json 안의\n",
    "instructions 블록 중, task_category == \"상담 결과\" 의 output 필드에 들어 있습니다."
   ]
  },
  {
   "cell_type": "markdown",
   "id": "04d26a79-5c22-4b26-8a95-ab995033bdb7",
   "metadata": {},
   "source": [
    "##### 1-1) 분류 JSON에서 상담 결과만 뽑아서 DataFrame으로 만들기"
   ]
  },
  {
   "cell_type": "code",
   "execution_count": 3,
   "id": "c31b9bbf-f492-495d-a96f-12ae94bda27e",
   "metadata": {},
   "outputs": [
    {
     "name": "stderr",
     "output_type": "stream",
     "text": [
      "Loading labels: 100%|████████████████████| 3600/3600 [00:00<00:00, 21609.02it/s]"
     ]
    },
    {
     "name": "stdout",
     "output_type": "stream",
     "text": [
      "result_label\n",
      "만족          2982\n",
      "추가 상담 필요     398\n",
      "미흡           154\n",
      "해결 불가         66\n",
      "Name: count, dtype: int64\n"
     ]
    },
    {
     "name": "stderr",
     "output_type": "stream",
     "text": [
      "\n"
     ]
    }
   ],
   "source": [
    "import glob, json\n",
    "import pandas as pd\n",
    "from tqdm import tqdm\n",
    "\n",
    "# classification 결과 JSON 폴더\n",
    "CLASS_DIR = 'json_merge/classification_merge_output_v3'  \n",
    "# 예: output_classification/merged_classification_40001_final.json 등\n",
    "\n",
    "rows = []\n",
    "for fp in tqdm(glob.glob(f'{CLASS_DIR}/merged_classification_*_final.json'), desc=\"Loading labels\"):\n",
    "    rec = json.load(open(fp, 'r', encoding='utf-8'))\n",
    "    sid = rec['session_id']\n",
    "    # 분류 리스트에서 첫 아이템만 보자 (세션당 동일 상담 내용)\n",
    "    block = rec['분류'][0]\n",
    "    # 그 block 안의 instructions[0]['data'] 에서 '상담 결과'를 찾기\n",
    "    label = None\n",
    "    for d in block['instructions'][0]['data']:\n",
    "        if d['task_category'] == '상담 결과':\n",
    "            label = d['output']\n",
    "            break\n",
    "    rows.append({'session_id': sid, 'result_label': label})\n",
    "\n",
    "df_labels = pd.DataFrame(rows)\n",
    "print(df_labels['result_label'].value_counts())"
   ]
  },
  {
   "cell_type": "code",
   "execution_count": 5,
   "id": "e0cc301d-8c12-4d21-b95d-f4c3fdae39f0",
   "metadata": {
    "scrolled": true
   },
   "outputs": [
    {
     "data": {
      "text/html": [
       "<div>\n",
       "<style scoped>\n",
       "    .dataframe tbody tr th:only-of-type {\n",
       "        vertical-align: middle;\n",
       "    }\n",
       "\n",
       "    .dataframe tbody tr th {\n",
       "        vertical-align: top;\n",
       "    }\n",
       "\n",
       "    .dataframe thead th {\n",
       "        text-align: right;\n",
       "    }\n",
       "</style>\n",
       "<table border=\"1\" class=\"dataframe\">\n",
       "  <thead>\n",
       "    <tr style=\"text-align: right;\">\n",
       "      <th></th>\n",
       "      <th>session_id</th>\n",
       "      <th>result_label</th>\n",
       "    </tr>\n",
       "  </thead>\n",
       "  <tbody>\n",
       "    <tr>\n",
       "      <th>3595</th>\n",
       "      <td>40398</td>\n",
       "      <td>만족</td>\n",
       "    </tr>\n",
       "    <tr>\n",
       "      <th>3596</th>\n",
       "      <td>43241</td>\n",
       "      <td>만족</td>\n",
       "    </tr>\n",
       "    <tr>\n",
       "      <th>3597</th>\n",
       "      <td>41815</td>\n",
       "      <td>만족</td>\n",
       "    </tr>\n",
       "    <tr>\n",
       "      <th>3598</th>\n",
       "      <td>40687</td>\n",
       "      <td>만족</td>\n",
       "    </tr>\n",
       "    <tr>\n",
       "      <th>3599</th>\n",
       "      <td>42542</td>\n",
       "      <td>해결 불가</td>\n",
       "    </tr>\n",
       "  </tbody>\n",
       "</table>\n",
       "</div>"
      ],
      "text/plain": [
       "     session_id result_label\n",
       "3595      40398           만족\n",
       "3596      43241           만족\n",
       "3597      41815           만족\n",
       "3598      40687           만족\n",
       "3599      42542        해결 불가"
      ]
     },
     "execution_count": 5,
     "metadata": {},
     "output_type": "execute_result"
    }
   ],
   "source": [
    "df_labels.tail()"
   ]
  },
  {
   "cell_type": "code",
   "execution_count": 5,
   "id": "3e84bd29-8269-4fdf-827f-6285b1ddb566",
   "metadata": {},
   "outputs": [
    {
     "name": "stdout",
     "output_type": "stream",
     "text": [
      "✅ 세션별 레이블 CSV 저장 완료 → dataset/preprocessing/session_labels.csv\n"
     ]
    }
   ],
   "source": [
    "import os\n",
    "\n",
    "# 1번에서 생성된 df_labels DataFrame 을 CSV로 저장하기\n",
    "os.makedirs('coloums_extraction/preprocessing', exist_ok=True)\n",
    "df_labels.to_csv('coloums_extraction/preprocessing/session_labels.csv', index=False, encoding='utf-8-sig')\n",
    "\n",
    "print(\"✅ 세션별 레이블 CSV 저장 완료 → dataset/preprocessing/session_labels.csv\")"
   ]
  },
  {
   "cell_type": "markdown",
   "id": "33601235-baf1-4bd6-b46b-19e8c689e2a2",
   "metadata": {},
   "source": [
    "## 2. 특성 csv와 레이블 합치기 (JOIN)"
   ]
  },
  {
   "cell_type": "markdown",
   "id": "6825e407-479e-4534-9374-a5c59e78d3d2",
   "metadata": {},
   "source": [
    "이제 1단계에서 만든 레이블(df_labels)을, 이전에 뽑아둔 텍스트·메타 특성 CSV(text_features_all.csv)와 session_id 기준으로 합치겠습니다."
   ]
  },
  {
   "cell_type": "code",
   "execution_count": 9,
   "id": "d8de42e4-fbb3-46f8-9e4d-db7e4ca60a4c",
   "metadata": {},
   "outputs": [
    {
     "name": "stdout",
     "output_type": "stream",
     "text": [
      "결측 레이블: 0개\n",
      "총 샘플: 3533개, 레이블 분포:\n",
      " result_label\n",
      "만족          2926\n",
      "추가 상담 필요     390\n",
      "미흡           151\n",
      "해결 불가         66\n",
      "Name: count, dtype: int64\n"
     ]
    }
   ],
   "source": [
    "import pandas as pd\n",
    "\n",
    "# 1) 불러오기\n",
    "df_feat   = pd.read_csv('coloumns_extracion/text_features_all_v3.csv', encoding='utf-8-sig')\n",
    "df_labels = pd.read_csv('dataset/preprocessing/session_labels.csv', encoding='utf-8-sig')  # 혹은 위에서 만든 df_labels.to_csv(...) 파일\n",
    "\n",
    "# 2) session_id 자료형 통일 (둘 다 str으로)\n",
    "df_feat['session_id']   = df_feat['session_id'].astype(str)\n",
    "df_labels['session_id'] = df_labels['session_id'].astype(str)\n",
    "\n",
    "# 3) 병합\n",
    "df = df_feat.merge(df_labels, on='session_id', how='inner')\n",
    "\n",
    "# 4) 확인\n",
    "print(f\"결측 레이블: {df['result_label'].isna().sum()}개\")\n",
    "print(f\"총 샘플: {len(df)}개, 레이블 분포:\\n\", df['result_label'].value_counts())"
   ]
  },
  {
   "cell_type": "code",
   "execution_count": 11,
   "id": "34a7625b-0bbc-43da-8aab-8a13cfca5e2c",
   "metadata": {},
   "outputs": [
    {
     "data": {
      "text/html": [
       "<div>\n",
       "<style scoped>\n",
       "    .dataframe tbody tr th:only-of-type {\n",
       "        vertical-align: middle;\n",
       "    }\n",
       "\n",
       "    .dataframe tbody tr th {\n",
       "        vertical-align: top;\n",
       "    }\n",
       "\n",
       "    .dataframe thead th {\n",
       "        text-align: right;\n",
       "    }\n",
       "</style>\n",
       "<table border=\"1\" class=\"dataframe\">\n",
       "  <thead>\n",
       "    <tr style=\"text-align: right;\">\n",
       "      <th></th>\n",
       "      <th>session_id</th>\n",
       "      <th>speech_count</th>\n",
       "      <th>asr_segments</th>\n",
       "      <th>top_nouns</th>\n",
       "      <th>고객_emo_1_star_score</th>\n",
       "      <th>고객_emo_2_star_score</th>\n",
       "      <th>고객_emo_3_star_score</th>\n",
       "      <th>고객_emo_4_star_score</th>\n",
       "      <th>고객_emo_5_star_score</th>\n",
       "      <th>고객_sent_score</th>\n",
       "      <th>...</th>\n",
       "      <th>positive_word_ratio</th>\n",
       "      <th>euphonious_word_ratio</th>\n",
       "      <th>confirmation_ratio</th>\n",
       "      <th>empathy_ratio</th>\n",
       "      <th>apology_ratio</th>\n",
       "      <th>request_ratio</th>\n",
       "      <th>alternative_suggestion_count</th>\n",
       "      <th>conflict_flag</th>\n",
       "      <th>manual_compliance_ratio</th>\n",
       "      <th>result_label</th>\n",
       "    </tr>\n",
       "  </thead>\n",
       "  <tbody>\n",
       "    <tr>\n",
       "      <th>0</th>\n",
       "      <td>40001</td>\n",
       "      <td>49</td>\n",
       "      <td>[{'speaker': '상담사', 'text': '일상에 즐거운 변화 U+ &lt;NA...</td>\n",
       "      <td>거,네,고객,이제,매장,코드,그,카드,제,그거</td>\n",
       "      <td>0.236101</td>\n",
       "      <td>0.213667</td>\n",
       "      <td>0.238402</td>\n",
       "      <td>0.149915</td>\n",
       "      <td>0.161916</td>\n",
       "      <td>2.787877</td>\n",
       "      <td>...</td>\n",
       "      <td>0.006250</td>\n",
       "      <td>0.012500</td>\n",
       "      <td>0.001563</td>\n",
       "      <td>0.0</td>\n",
       "      <td>0.00625</td>\n",
       "      <td>0.001563</td>\n",
       "      <td>0</td>\n",
       "      <td>0</td>\n",
       "      <td>1</td>\n",
       "      <td>해결 불가</td>\n",
       "    </tr>\n",
       "    <tr>\n",
       "      <th>1</th>\n",
       "      <td>40002</td>\n",
       "      <td>62</td>\n",
       "      <td>[{'speaker': '상담사', 'text': '일상에 즐거운 변화 LGU+ &lt;...</td>\n",
       "      <td>네,예,방문,고객,명의,확인,번호,그,지금,이</td>\n",
       "      <td>0.188101</td>\n",
       "      <td>0.220787</td>\n",
       "      <td>0.298281</td>\n",
       "      <td>0.162566</td>\n",
       "      <td>0.130265</td>\n",
       "      <td>2.826106</td>\n",
       "      <td>...</td>\n",
       "      <td>0.010327</td>\n",
       "      <td>0.001721</td>\n",
       "      <td>0.015491</td>\n",
       "      <td>0.0</td>\n",
       "      <td>0.00000</td>\n",
       "      <td>0.000000</td>\n",
       "      <td>0</td>\n",
       "      <td>1</td>\n",
       "      <td>1</td>\n",
       "      <td>만족</td>\n",
       "    </tr>\n",
       "    <tr>\n",
       "      <th>2</th>\n",
       "      <td>40003</td>\n",
       "      <td>77</td>\n",
       "      <td>[{'speaker': '상담사', 'text': '일상에 즐거운 변화 LGU+ &lt;...</td>\n",
       "      <td>네,금제,할인,변경,거,수,요금,제,부터,고객</td>\n",
       "      <td>0.262344</td>\n",
       "      <td>0.257603</td>\n",
       "      <td>0.247805</td>\n",
       "      <td>0.111836</td>\n",
       "      <td>0.120412</td>\n",
       "      <td>2.570370</td>\n",
       "      <td>...</td>\n",
       "      <td>0.006309</td>\n",
       "      <td>0.004732</td>\n",
       "      <td>0.003155</td>\n",
       "      <td>0.0</td>\n",
       "      <td>0.00000</td>\n",
       "      <td>0.001577</td>\n",
       "      <td>0</td>\n",
       "      <td>0</td>\n",
       "      <td>1</td>\n",
       "      <td>만족</td>\n",
       "    </tr>\n",
       "    <tr>\n",
       "      <th>3</th>\n",
       "      <td>40004</td>\n",
       "      <td>52</td>\n",
       "      <td>[{'speaker': '상담사', 'text': '일상에 즐거운 변화 LGU+ &lt;...</td>\n",
       "      <td>네,이제,고객,확인,그,제,저희,거,안,뭐</td>\n",
       "      <td>0.262972</td>\n",
       "      <td>0.205973</td>\n",
       "      <td>0.218362</td>\n",
       "      <td>0.144251</td>\n",
       "      <td>0.168442</td>\n",
       "      <td>2.749217</td>\n",
       "      <td>...</td>\n",
       "      <td>0.001527</td>\n",
       "      <td>0.001527</td>\n",
       "      <td>0.021374</td>\n",
       "      <td>0.0</td>\n",
       "      <td>0.00000</td>\n",
       "      <td>0.000000</td>\n",
       "      <td>0</td>\n",
       "      <td>0</td>\n",
       "      <td>1</td>\n",
       "      <td>미흡</td>\n",
       "    </tr>\n",
       "    <tr>\n",
       "      <th>4</th>\n",
       "      <td>40005</td>\n",
       "      <td>63</td>\n",
       "      <td>[{'speaker': '상담사', 'text': '일상에 즐거운 변화 LGU+ &lt;...</td>\n",
       "      <td>네,고객,통화,거,지금,할인,중,대기,서비스,번</td>\n",
       "      <td>0.179392</td>\n",
       "      <td>0.170757</td>\n",
       "      <td>0.229438</td>\n",
       "      <td>0.192581</td>\n",
       "      <td>0.227833</td>\n",
       "      <td>3.118704</td>\n",
       "      <td>...</td>\n",
       "      <td>0.003436</td>\n",
       "      <td>0.006873</td>\n",
       "      <td>0.006873</td>\n",
       "      <td>0.0</td>\n",
       "      <td>0.00000</td>\n",
       "      <td>0.001718</td>\n",
       "      <td>0</td>\n",
       "      <td>0</td>\n",
       "      <td>1</td>\n",
       "      <td>만족</td>\n",
       "    </tr>\n",
       "  </tbody>\n",
       "</table>\n",
       "<p>5 rows × 33 columns</p>\n",
       "</div>"
      ],
      "text/plain": [
       "  session_id  speech_count                                       asr_segments  \\\n",
       "0      40001            49  [{'speaker': '상담사', 'text': '일상에 즐거운 변화 U+ <NA...   \n",
       "1      40002            62  [{'speaker': '상담사', 'text': '일상에 즐거운 변화 LGU+ <...   \n",
       "2      40003            77  [{'speaker': '상담사', 'text': '일상에 즐거운 변화 LGU+ <...   \n",
       "3      40004            52  [{'speaker': '상담사', 'text': '일상에 즐거운 변화 LGU+ <...   \n",
       "4      40005            63  [{'speaker': '상담사', 'text': '일상에 즐거운 변화 LGU+ <...   \n",
       "\n",
       "                    top_nouns  고객_emo_1_star_score  고객_emo_2_star_score  \\\n",
       "0   거,네,고객,이제,매장,코드,그,카드,제,그거             0.236101             0.213667   \n",
       "1   네,예,방문,고객,명의,확인,번호,그,지금,이             0.188101             0.220787   \n",
       "2   네,금제,할인,변경,거,수,요금,제,부터,고객             0.262344             0.257603   \n",
       "3     네,이제,고객,확인,그,제,저희,거,안,뭐             0.262972             0.205973   \n",
       "4  네,고객,통화,거,지금,할인,중,대기,서비스,번             0.179392             0.170757   \n",
       "\n",
       "   고객_emo_3_star_score  고객_emo_4_star_score  고객_emo_5_star_score  \\\n",
       "0             0.238402             0.149915             0.161916   \n",
       "1             0.298281             0.162566             0.130265   \n",
       "2             0.247805             0.111836             0.120412   \n",
       "3             0.218362             0.144251             0.168442   \n",
       "4             0.229438             0.192581             0.227833   \n",
       "\n",
       "   고객_sent_score  ... positive_word_ratio  euphonious_word_ratio  \\\n",
       "0       2.787877  ...            0.006250               0.012500   \n",
       "1       2.826106  ...            0.010327               0.001721   \n",
       "2       2.570370  ...            0.006309               0.004732   \n",
       "3       2.749217  ...            0.001527               0.001527   \n",
       "4       3.118704  ...            0.003436               0.006873   \n",
       "\n",
       "   confirmation_ratio  empathy_ratio  apology_ratio  request_ratio  \\\n",
       "0            0.001563            0.0        0.00625       0.001563   \n",
       "1            0.015491            0.0        0.00000       0.000000   \n",
       "2            0.003155            0.0        0.00000       0.001577   \n",
       "3            0.021374            0.0        0.00000       0.000000   \n",
       "4            0.006873            0.0        0.00000       0.001718   \n",
       "\n",
       "   alternative_suggestion_count conflict_flag manual_compliance_ratio  \\\n",
       "0                             0             0                       1   \n",
       "1                             0             1                       1   \n",
       "2                             0             0                       1   \n",
       "3                             0             0                       1   \n",
       "4                             0             0                       1   \n",
       "\n",
       "  result_label  \n",
       "0        해결 불가  \n",
       "1           만족  \n",
       "2           만족  \n",
       "3           미흡  \n",
       "4           만족  \n",
       "\n",
       "[5 rows x 33 columns]"
      ]
     },
     "execution_count": 11,
     "metadata": {},
     "output_type": "execute_result"
    }
   ],
   "source": [
    "df.head()"
   ]
  },
  {
   "cell_type": "markdown",
   "id": "7ff127e5-f7c3-4019-91ea-32b6374e83ac",
   "metadata": {},
   "source": [
    "## 3. 학습/검증/시험용 데이터 분할"
   ]
  },
  {
   "cell_type": "markdown",
   "id": "5fccd9d2-e877-42f1-99fe-9fd01961a02f",
   "metadata": {},
   "source": [
    "##### result_label 의 분포 비율(클래스 불균형)을 유지하며 Stratified Split 합니다."
   ]
  },
  {
   "cell_type": "code",
   "execution_count": 13,
   "id": "c03e9fb7-e514-4fff-be24-376764de74ba",
   "metadata": {},
   "outputs": [
    {
     "name": "stdout",
     "output_type": "stream",
     "text": [
      "train: (2472, 33) val: (531, 33) test: (530, 33)\n"
     ]
    }
   ],
   "source": [
    "from sklearn.model_selection import train_test_split\n",
    "\n",
    "# 3-1) Test 세트 분리 (15%)\n",
    "trainval, test = train_test_split(\n",
    "    df,\n",
    "    test_size=0.15,\n",
    "    stratify=df['result_label'],\n",
    "    random_state=42\n",
    ")\n",
    "\n",
    "# 3-2) Train / Validation 분리 (전체 중 15%가 Validation → trainval 의 17.6% 약 15%)\n",
    "train, val = train_test_split(\n",
    "    trainval,\n",
    "    test_size=0.1765,\n",
    "    stratify=trainval['result_label'],\n",
    "    random_state=42\n",
    ")\n",
    "\n",
    "print(\"train:\", train.shape, \"val:\", val.shape, \"test:\", test.shape)"
   ]
  },
  {
   "cell_type": "markdown",
   "id": "1ec83706-7c45-4588-b93a-15df5bd9baa1",
   "metadata": {},
   "source": [
    "## 4. 피처 선택 및 전처리\n",
    "1. 불필요 컬럼 제거\n",
    "- asr_segments 같은 리스트/텍스트 컬럼은 모델 입력용으로 가공하거나 제거\n",
    "- top_nouns 는 나중에 TF-IDF → embedding 용으로 따로 저장 가능\n",
    "\n",
    "2. 인코딩\n",
    "- 범주형 컬럼(mid_category, content_category, rec_place, result_label) → LabelEncoder or OneHot\n",
    "\n",
    "3. 스케일링\n",
    "- 수치형 (speech_count, 비율 컬럼 등) → StandardScaler 또는 MinMaxScaler"
   ]
  },
  {
   "cell_type": "code",
   "execution_count": 15,
   "id": "628d38df-abf4-4814-b49e-e83839b5bd39",
   "metadata": {},
   "outputs": [],
   "source": [
    "# 예시: 범주형 인코딩\n",
    "from sklearn.preprocessing import LabelEncoder\n",
    "\n",
    "le_topic = LabelEncoder().fit(df['mid_category'])\n",
    "train['mid_category_id'] = le_topic.transform(train['mid_category'])\n",
    "val['mid_category_id']   = le_topic.transform(val['mid_category'])\n",
    "test['mid_category_id']  = le_topic.transform(test['mid_category'])\n",
    "\n",
    "# 결과 레이블도 숫자로\n",
    "le_res = LabelEncoder().fit(df['result_label'])\n",
    "train['label_id'] = le_res.transform(train['result_label'])\n",
    "val['label_id']   = le_res.transform(val['result_label'])\n",
    "test['label_id']  = le_res.transform(test['result_label'])"
   ]
  },
  {
   "cell_type": "markdown",
   "id": "379380a8-3372-441e-a19e-55008972f754",
   "metadata": {},
   "source": [
    "## 5. 최종 데이터셋 csv로 저장"
   ]
  },
  {
   "cell_type": "code",
   "execution_count": 17,
   "id": "726fcae6-a4e8-4d34-aba5-a35a1700232c",
   "metadata": {},
   "outputs": [
    {
     "name": "stdout",
     "output_type": "stream",
     "text": [
      "✅ Dataset saved under dataset_v3/\n"
     ]
    }
   ],
   "source": [
    "os.makedirs('dataset_v3', exist_ok=True)\n",
    "train.to_csv('dataset_v3/train.csv', index=False, encoding='utf-8-sig')\n",
    "val.to_csv  ('dataset_v3/val.csv',   index=False, encoding='utf-8-sig')\n",
    "test.to_csv ('dataset_v3/test.csv',  index=False, encoding='utf-8-sig')\n",
    "print(\"✅ Dataset saved under dataset_v3/\") "
   ]
  }
 ],
 "metadata": {
  "kernelspec": {
   "display_name": "Python 3 (ipykernel)",
   "language": "python",
   "name": "python3"
  },
  "language_info": {
   "codemirror_mode": {
    "name": "ipython",
    "version": 3
   },
   "file_extension": ".py",
   "mimetype": "text/x-python",
   "name": "python",
   "nbconvert_exporter": "python",
   "pygments_lexer": "ipython3",
   "version": "3.11.7"
  }
 },
 "nbformat": 4,
 "nbformat_minor": 5
}
